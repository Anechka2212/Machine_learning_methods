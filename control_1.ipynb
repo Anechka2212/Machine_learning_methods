{
  "nbformat": 4,
  "nbformat_minor": 0,
  "metadata": {
    "colab": {
      "name": "control_1.ipynb",
      "provenance": [],
      "collapsed_sections": [],
      "authorship_tag": "ABX9TyPC65pdzMubM9uMO5oQ4PIu"
    },
    "kernelspec": {
      "name": "python3",
      "display_name": "Python 3"
    },
    "language_info": {
      "name": "python"
    }
  },
  "cells": [
    {
      "cell_type": "code",
      "metadata": {
        "colab": {
          "base_uri": "https://localhost:8080/"
        },
        "id": "J_Wa7h9A4xj5",
        "outputId": "572517f0-e857-463e-d5e3-d84c1684ca08"
      },
      "source": [
        "!pip3 install category_encoders"
      ],
      "execution_count": 1,
      "outputs": [
        {
          "output_type": "stream",
          "text": [
            "Collecting category_encoders\n",
            "\u001b[?25l  Downloading https://files.pythonhosted.org/packages/44/57/fcef41c248701ee62e8325026b90c432adea35555cbc870aff9cfba23727/category_encoders-2.2.2-py2.py3-none-any.whl (80kB)\n",
            "\r\u001b[K     |████                            | 10kB 14.3MB/s eta 0:00:01\r\u001b[K     |████████▏                       | 20kB 14.2MB/s eta 0:00:01\r\u001b[K     |████████████▏                   | 30kB 7.7MB/s eta 0:00:01\r\u001b[K     |████████████████▎               | 40kB 6.4MB/s eta 0:00:01\r\u001b[K     |████████████████████▎           | 51kB 4.4MB/s eta 0:00:01\r\u001b[K     |████████████████████████▍       | 61kB 5.0MB/s eta 0:00:01\r\u001b[K     |████████████████████████████▍   | 71kB 5.3MB/s eta 0:00:01\r\u001b[K     |████████████████████████████████| 81kB 3.3MB/s \n",
            "\u001b[?25hRequirement already satisfied: numpy>=1.14.0 in /usr/local/lib/python3.7/dist-packages (from category_encoders) (1.19.5)\n",
            "Requirement already satisfied: pandas>=0.21.1 in /usr/local/lib/python3.7/dist-packages (from category_encoders) (1.1.5)\n",
            "Requirement already satisfied: scikit-learn>=0.20.0 in /usr/local/lib/python3.7/dist-packages (from category_encoders) (0.22.2.post1)\n",
            "Requirement already satisfied: scipy>=1.0.0 in /usr/local/lib/python3.7/dist-packages (from category_encoders) (1.4.1)\n",
            "Requirement already satisfied: statsmodels>=0.9.0 in /usr/local/lib/python3.7/dist-packages (from category_encoders) (0.10.2)\n",
            "Requirement already satisfied: patsy>=0.5.1 in /usr/local/lib/python3.7/dist-packages (from category_encoders) (0.5.1)\n",
            "Requirement already satisfied: pytz>=2017.2 in /usr/local/lib/python3.7/dist-packages (from pandas>=0.21.1->category_encoders) (2018.9)\n",
            "Requirement already satisfied: python-dateutil>=2.7.3 in /usr/local/lib/python3.7/dist-packages (from pandas>=0.21.1->category_encoders) (2.8.1)\n",
            "Requirement already satisfied: joblib>=0.11 in /usr/local/lib/python3.7/dist-packages (from scikit-learn>=0.20.0->category_encoders) (1.0.1)\n",
            "Requirement already satisfied: six in /usr/local/lib/python3.7/dist-packages (from patsy>=0.5.1->category_encoders) (1.15.0)\n",
            "Installing collected packages: category-encoders\n",
            "Successfully installed category-encoders-2.2.2\n"
          ],
          "name": "stdout"
        }
      ]
    },
    {
      "cell_type": "markdown",
      "metadata": {
        "id": "w35EBel8tsAS"
      },
      "source": [
        "РК1, Желанкина Анна (ИУ5-22М), вариант 3\n"
      ]
    },
    {
      "cell_type": "code",
      "metadata": {
        "id": "A3WOekfiwUpB",
        "colab": {
          "base_uri": "https://localhost:8080/"
        },
        "outputId": "c324d66f-4397-4494-d591-a21ae28b99cc"
      },
      "source": [
        "import numpy as np\n",
        "import pandas as pd\n",
        "\n",
        "from category_encoders.woe import WOEEncoder as ce_WOEEncoder\n",
        "\n",
        "import seaborn as sns\n",
        "import matplotlib.pyplot as plt\n",
        "import scipy.stats as stats\n",
        "%matplotlib inline \n",
        "sns.set(style=\"ticks\")"
      ],
      "execution_count": 2,
      "outputs": [
        {
          "output_type": "stream",
          "text": [
            "/usr/local/lib/python3.7/dist-packages/statsmodels/tools/_testing.py:19: FutureWarning: pandas.util.testing is deprecated. Use the functions in the public API at pandas.testing instead.\n",
            "  import pandas.util.testing as tm\n"
          ],
          "name": "stderr"
        }
      ]
    },
    {
      "cell_type": "code",
      "metadata": {
        "colab": {
          "base_uri": "https://localhost:8080/",
          "height": 222
        },
        "id": "l5V9drXSwYjJ",
        "outputId": "8919f11a-0d66-454e-ba76-85c550e75a39"
      },
      "source": [
        "url_data = 'https://archive.ics.uci.edu/ml/machine-learning-databases/coil-mld/analysis.data'\n",
        "data = pd.read_csv(url_data, header=None)\n",
        "data.columns = ['season', 'river_size', 'fluid_elocity', \n",
        "                'chem_concentrations_1', 'chem_concentrations_2', 'chem_concentrations_3', 'chem_concentrations_4',\n",
        "                'chem_concentrations_5', 'chem_concentrations_6', 'chem_concentrations_7', 'chem_concentrations_8',\n",
        "                'algae_1', 'algae_2', 'algae_3', 'algae_4', 'algae_5', 'algae_6', 'algae_7']\n",
        "data.head()"
      ],
      "execution_count": 3,
      "outputs": [
        {
          "output_type": "execute_result",
          "data": {
            "text/html": [
              "<div>\n",
              "<style scoped>\n",
              "    .dataframe tbody tr th:only-of-type {\n",
              "        vertical-align: middle;\n",
              "    }\n",
              "\n",
              "    .dataframe tbody tr th {\n",
              "        vertical-align: top;\n",
              "    }\n",
              "\n",
              "    .dataframe thead th {\n",
              "        text-align: right;\n",
              "    }\n",
              "</style>\n",
              "<table border=\"1\" class=\"dataframe\">\n",
              "  <thead>\n",
              "    <tr style=\"text-align: right;\">\n",
              "      <th></th>\n",
              "      <th>season</th>\n",
              "      <th>river_size</th>\n",
              "      <th>fluid_elocity</th>\n",
              "      <th>chem_concentrations_1</th>\n",
              "      <th>chem_concentrations_2</th>\n",
              "      <th>chem_concentrations_3</th>\n",
              "      <th>chem_concentrations_4</th>\n",
              "      <th>chem_concentrations_5</th>\n",
              "      <th>chem_concentrations_6</th>\n",
              "      <th>chem_concentrations_7</th>\n",
              "      <th>chem_concentrations_8</th>\n",
              "      <th>algae_1</th>\n",
              "      <th>algae_2</th>\n",
              "      <th>algae_3</th>\n",
              "      <th>algae_4</th>\n",
              "      <th>algae_5</th>\n",
              "      <th>algae_6</th>\n",
              "      <th>algae_7</th>\n",
              "    </tr>\n",
              "  </thead>\n",
              "  <tbody>\n",
              "    <tr>\n",
              "      <th>0</th>\n",
              "      <td>winter</td>\n",
              "      <td>small_</td>\n",
              "      <td>medium</td>\n",
              "      <td>8.00000</td>\n",
              "      <td>9.80000</td>\n",
              "      <td>60.80000</td>\n",
              "      <td>6.23800</td>\n",
              "      <td>578.00000</td>\n",
              "      <td>105.00000</td>\n",
              "      <td>170.00000</td>\n",
              "      <td>50.00000</td>\n",
              "      <td>0.0</td>\n",
              "      <td>0.0</td>\n",
              "      <td>0.0</td>\n",
              "      <td>0.0</td>\n",
              "      <td>34.2</td>\n",
              "      <td>8.3</td>\n",
              "      <td>0.0</td>\n",
              "    </tr>\n",
              "    <tr>\n",
              "      <th>1</th>\n",
              "      <td>spring</td>\n",
              "      <td>small_</td>\n",
              "      <td>medium</td>\n",
              "      <td>8.35000</td>\n",
              "      <td>8.00000</td>\n",
              "      <td>57.75000</td>\n",
              "      <td>1.28800</td>\n",
              "      <td>370.00000</td>\n",
              "      <td>428.75000</td>\n",
              "      <td>558.75000</td>\n",
              "      <td>1.30000</td>\n",
              "      <td>1.4</td>\n",
              "      <td>7.6</td>\n",
              "      <td>4.8</td>\n",
              "      <td>1.9</td>\n",
              "      <td>6.7</td>\n",
              "      <td>0.0</td>\n",
              "      <td>2.1</td>\n",
              "    </tr>\n",
              "    <tr>\n",
              "      <th>2</th>\n",
              "      <td>autumn</td>\n",
              "      <td>small_</td>\n",
              "      <td>medium</td>\n",
              "      <td>8.10000</td>\n",
              "      <td>11.40000</td>\n",
              "      <td>40.02000</td>\n",
              "      <td>5.33000</td>\n",
              "      <td>346.66699</td>\n",
              "      <td>125.66700</td>\n",
              "      <td>187.05701</td>\n",
              "      <td>15.60000</td>\n",
              "      <td>3.3</td>\n",
              "      <td>53.6</td>\n",
              "      <td>1.9</td>\n",
              "      <td>0.0</td>\n",
              "      <td>0.0</td>\n",
              "      <td>0.0</td>\n",
              "      <td>9.7</td>\n",
              "    </tr>\n",
              "    <tr>\n",
              "      <th>3</th>\n",
              "      <td>spring</td>\n",
              "      <td>small_</td>\n",
              "      <td>medium</td>\n",
              "      <td>8.07000</td>\n",
              "      <td>4.80000</td>\n",
              "      <td>77.36400</td>\n",
              "      <td>2.30200</td>\n",
              "      <td>98.18200</td>\n",
              "      <td>61.18200</td>\n",
              "      <td>138.70000</td>\n",
              "      <td>1.40000</td>\n",
              "      <td>3.1</td>\n",
              "      <td>41.0</td>\n",
              "      <td>18.9</td>\n",
              "      <td>0.0</td>\n",
              "      <td>1.4</td>\n",
              "      <td>0.0</td>\n",
              "      <td>1.4</td>\n",
              "    </tr>\n",
              "    <tr>\n",
              "      <th>4</th>\n",
              "      <td>autumn</td>\n",
              "      <td>small_</td>\n",
              "      <td>medium</td>\n",
              "      <td>8.06000</td>\n",
              "      <td>9.00000</td>\n",
              "      <td>55.35000</td>\n",
              "      <td>10.41600</td>\n",
              "      <td>233.70000</td>\n",
              "      <td>58.22200</td>\n",
              "      <td>97.58000</td>\n",
              "      <td>10.50000</td>\n",
              "      <td>9.2</td>\n",
              "      <td>2.9</td>\n",
              "      <td>7.5</td>\n",
              "      <td>0.0</td>\n",
              "      <td>7.5</td>\n",
              "      <td>4.1</td>\n",
              "      <td>1.0</td>\n",
              "    </tr>\n",
              "  </tbody>\n",
              "</table>\n",
              "</div>"
            ],
            "text/plain": [
              "   season river_size fluid_elocity  ... algae_5 algae_6 algae_7\n",
              "0  winter     small_        medium  ...    34.2     8.3     0.0\n",
              "1  spring     small_        medium  ...     6.7     0.0     2.1\n",
              "2  autumn     small_        medium  ...     0.0     0.0     9.7\n",
              "3  spring     small_        medium  ...     1.4     0.0     1.4\n",
              "4  autumn     small_        medium  ...     7.5     4.1     1.0\n",
              "\n",
              "[5 rows x 18 columns]"
            ]
          },
          "metadata": {
            "tags": []
          },
          "execution_count": 3
        }
      ]
    },
    {
      "cell_type": "code",
      "metadata": {
        "colab": {
          "base_uri": "https://localhost:8080/"
        },
        "id": "BO3bO2BizrGj",
        "outputId": "6c6226e3-51d3-42fc-daa0-967c561badb3"
      },
      "source": [
        "data_features = list(zip(\n",
        "# признаки\n",
        "[i for i in data.columns],\n",
        "zip(\n",
        "    # типы колонок\n",
        "    [str(i) for i in data.dtypes],\n",
        "    # проверим есть ли пропущенные значения\n",
        "    [i for i in data.isnull().sum()]\n",
        ")))\n",
        "# Признаки с типом данных и количеством пропусков\n",
        "data_features"
      ],
      "execution_count": 4,
      "outputs": [
        {
          "output_type": "execute_result",
          "data": {
            "text/plain": [
              "[('season', ('object', 0)),\n",
              " ('river_size', ('object', 0)),\n",
              " ('fluid_elocity', ('object', 0)),\n",
              " ('chem_concentrations_1', ('object', 0)),\n",
              " ('chem_concentrations_2', ('object', 0)),\n",
              " ('chem_concentrations_3', ('object', 0)),\n",
              " ('chem_concentrations_4', ('object', 0)),\n",
              " ('chem_concentrations_5', ('object', 0)),\n",
              " ('chem_concentrations_6', ('object', 0)),\n",
              " ('chem_concentrations_7', ('object', 0)),\n",
              " ('chem_concentrations_8', ('object', 0)),\n",
              " ('algae_1', ('float64', 0)),\n",
              " ('algae_2', ('float64', 0)),\n",
              " ('algae_3', ('float64', 0)),\n",
              " ('algae_4', ('float64', 0)),\n",
              " ('algae_5', ('float64', 0)),\n",
              " ('algae_6', ('float64', 0)),\n",
              " ('algae_7', ('float64', 17))]"
            ]
          },
          "metadata": {
            "tags": []
          },
          "execution_count": 4
        }
      ]
    },
    {
      "cell_type": "code",
      "metadata": {
        "colab": {
          "base_uri": "https://localhost:8080/"
        },
        "id": "1YjoW8Uc_jpk",
        "outputId": "b58a9bcf-d881-44cb-ec41-13f3599d8172"
      },
      "source": [
        "data['fluid_elocity'].unique()"
      ],
      "execution_count": 5,
      "outputs": [
        {
          "output_type": "execute_result",
          "data": {
            "text/plain": [
              "array(['medium', 'high__', 'low___'], dtype=object)"
            ]
          },
          "metadata": {
            "tags": []
          },
          "execution_count": 5
        }
      ]
    },
    {
      "cell_type": "code",
      "metadata": {
        "id": "9X099PUs9C2a"
      },
      "source": [
        "trgt = []\n",
        "for i, val in enumerate(data['fluid_elocity']):\n",
        "    if (val == 'medium' or val == 'high__'):\n",
        "        trgt.append(1)\n",
        "    else:\n",
        "        trgt.append(0)\n",
        "\n",
        "trgt = pd.Series(trgt)\n",
        "data['target'] = trgt"
      ],
      "execution_count": 6,
      "outputs": []
    },
    {
      "cell_type": "markdown",
      "metadata": {
        "id": "5xw2EqPwv1ZJ"
      },
      "source": [
        "Задача № 3.\n",
        "Для набора данных проведите кодирование одного (произвольного) категориального признака с использованием метода \"weight of evidence (WoE) encoding\"."
      ]
    },
    {
      "cell_type": "code",
      "metadata": {
        "colab": {
          "base_uri": "https://localhost:8080/"
        },
        "id": "zixLVAHI48iA",
        "outputId": "733011c4-daba-49aa-c65b-da304234f98d"
      },
      "source": [
        "ce_WOEEncoder1 = ce_WOEEncoder()\n",
        "data_WOE_ENC = ce_WOEEncoder1.fit_transform(data[data.columns.difference(['target'])], data['target'])"
      ],
      "execution_count": 7,
      "outputs": [
        {
          "output_type": "stream",
          "text": [
            "/usr/local/lib/python3.7/dist-packages/category_encoders/utils.py:21: FutureWarning: is_categorical is deprecated and will be removed in a future version.  Use is_categorical_dtype instead\n",
            "  elif pd.api.types.is_categorical(cols):\n"
          ],
          "name": "stderr"
        }
      ]
    },
    {
      "cell_type": "code",
      "metadata": {
        "colab": {
          "base_uri": "https://localhost:8080/",
          "height": 435
        },
        "id": "mFUeIJqq_9ft",
        "outputId": "e366c851-92eb-41b5-d0b9-994128db6e3a"
      },
      "source": [
        "data_WOE_ENC"
      ],
      "execution_count": 8,
      "outputs": [
        {
          "output_type": "execute_result",
          "data": {
            "text/html": [
              "<div>\n",
              "<style scoped>\n",
              "    .dataframe tbody tr th:only-of-type {\n",
              "        vertical-align: middle;\n",
              "    }\n",
              "\n",
              "    .dataframe tbody tr th {\n",
              "        vertical-align: top;\n",
              "    }\n",
              "\n",
              "    .dataframe thead th {\n",
              "        text-align: right;\n",
              "    }\n",
              "</style>\n",
              "<table border=\"1\" class=\"dataframe\">\n",
              "  <thead>\n",
              "    <tr style=\"text-align: right;\">\n",
              "      <th></th>\n",
              "      <th>algae_1</th>\n",
              "      <th>algae_2</th>\n",
              "      <th>algae_3</th>\n",
              "      <th>algae_4</th>\n",
              "      <th>algae_5</th>\n",
              "      <th>algae_6</th>\n",
              "      <th>algae_7</th>\n",
              "      <th>chem_concentrations_1</th>\n",
              "      <th>chem_concentrations_2</th>\n",
              "      <th>chem_concentrations_3</th>\n",
              "      <th>chem_concentrations_4</th>\n",
              "      <th>chem_concentrations_5</th>\n",
              "      <th>chem_concentrations_6</th>\n",
              "      <th>chem_concentrations_7</th>\n",
              "      <th>chem_concentrations_8</th>\n",
              "      <th>fluid_elocity</th>\n",
              "      <th>river_size</th>\n",
              "      <th>season</th>\n",
              "    </tr>\n",
              "  </thead>\n",
              "  <tbody>\n",
              "    <tr>\n",
              "      <th>0</th>\n",
              "      <td>0.0</td>\n",
              "      <td>0.0</td>\n",
              "      <td>0.0</td>\n",
              "      <td>0.0</td>\n",
              "      <td>34.2</td>\n",
              "      <td>8.3</td>\n",
              "      <td>0.0</td>\n",
              "      <td>0.371359</td>\n",
              "      <td>0.622674</td>\n",
              "      <td>0.000000</td>\n",
              "      <td>0.000000</td>\n",
              "      <td>0.000000</td>\n",
              "      <td>0.000000</td>\n",
              "      <td>0.000000</td>\n",
              "      <td>0.000000</td>\n",
              "      <td>2.856266</td>\n",
              "      <td>1.994982</td>\n",
              "      <td>-0.002154</td>\n",
              "    </tr>\n",
              "    <tr>\n",
              "      <th>1</th>\n",
              "      <td>1.4</td>\n",
              "      <td>7.6</td>\n",
              "      <td>4.8</td>\n",
              "      <td>1.9</td>\n",
              "      <td>6.7</td>\n",
              "      <td>0.0</td>\n",
              "      <td>2.1</td>\n",
              "      <td>0.000000</td>\n",
              "      <td>0.000000</td>\n",
              "      <td>-1.574551</td>\n",
              "      <td>0.000000</td>\n",
              "      <td>0.000000</td>\n",
              "      <td>0.000000</td>\n",
              "      <td>0.000000</td>\n",
              "      <td>-0.188256</td>\n",
              "      <td>2.856266</td>\n",
              "      <td>1.994982</td>\n",
              "      <td>0.056866</td>\n",
              "    </tr>\n",
              "    <tr>\n",
              "      <th>2</th>\n",
              "      <td>3.3</td>\n",
              "      <td>53.6</td>\n",
              "      <td>1.9</td>\n",
              "      <td>0.0</td>\n",
              "      <td>0.0</td>\n",
              "      <td>0.0</td>\n",
              "      <td>9.7</td>\n",
              "      <td>0.297252</td>\n",
              "      <td>-0.475938</td>\n",
              "      <td>0.000000</td>\n",
              "      <td>0.000000</td>\n",
              "      <td>0.000000</td>\n",
              "      <td>0.000000</td>\n",
              "      <td>0.000000</td>\n",
              "      <td>0.000000</td>\n",
              "      <td>2.856266</td>\n",
              "      <td>1.994982</td>\n",
              "      <td>-0.275268</td>\n",
              "    </tr>\n",
              "    <tr>\n",
              "      <th>3</th>\n",
              "      <td>3.1</td>\n",
              "      <td>41.0</td>\n",
              "      <td>18.9</td>\n",
              "      <td>0.0</td>\n",
              "      <td>1.4</td>\n",
              "      <td>0.0</td>\n",
              "      <td>1.4</td>\n",
              "      <td>0.000000</td>\n",
              "      <td>0.000000</td>\n",
              "      <td>0.000000</td>\n",
              "      <td>0.000000</td>\n",
              "      <td>0.000000</td>\n",
              "      <td>0.000000</td>\n",
              "      <td>0.000000</td>\n",
              "      <td>-0.475938</td>\n",
              "      <td>2.856266</td>\n",
              "      <td>1.994982</td>\n",
              "      <td>0.056866</td>\n",
              "    </tr>\n",
              "    <tr>\n",
              "      <th>4</th>\n",
              "      <td>9.2</td>\n",
              "      <td>2.9</td>\n",
              "      <td>7.5</td>\n",
              "      <td>0.0</td>\n",
              "      <td>7.5</td>\n",
              "      <td>4.1</td>\n",
              "      <td>1.0</td>\n",
              "      <td>-1.574551</td>\n",
              "      <td>0.034887</td>\n",
              "      <td>0.000000</td>\n",
              "      <td>0.000000</td>\n",
              "      <td>0.000000</td>\n",
              "      <td>0.000000</td>\n",
              "      <td>0.000000</td>\n",
              "      <td>0.000000</td>\n",
              "      <td>2.856266</td>\n",
              "      <td>1.994982</td>\n",
              "      <td>-0.275268</td>\n",
              "    </tr>\n",
              "    <tr>\n",
              "      <th>...</th>\n",
              "      <td>...</td>\n",
              "      <td>...</td>\n",
              "      <td>...</td>\n",
              "      <td>...</td>\n",
              "      <td>...</td>\n",
              "      <td>...</td>\n",
              "      <td>...</td>\n",
              "      <td>...</td>\n",
              "      <td>...</td>\n",
              "      <td>...</td>\n",
              "      <td>...</td>\n",
              "      <td>...</td>\n",
              "      <td>...</td>\n",
              "      <td>...</td>\n",
              "      <td>...</td>\n",
              "      <td>...</td>\n",
              "      <td>...</td>\n",
              "      <td>...</td>\n",
              "    </tr>\n",
              "    <tr>\n",
              "      <th>195</th>\n",
              "      <td>12.7</td>\n",
              "      <td>21.7</td>\n",
              "      <td>5.6</td>\n",
              "      <td>0.0</td>\n",
              "      <td>1.0</td>\n",
              "      <td>0.0</td>\n",
              "      <td>0.0</td>\n",
              "      <td>-1.014935</td>\n",
              "      <td>-0.188256</td>\n",
              "      <td>0.000000</td>\n",
              "      <td>0.000000</td>\n",
              "      <td>0.000000</td>\n",
              "      <td>0.000000</td>\n",
              "      <td>0.000000</td>\n",
              "      <td>0.000000</td>\n",
              "      <td>2.856266</td>\n",
              "      <td>-1.097627</td>\n",
              "      <td>-0.275268</td>\n",
              "    </tr>\n",
              "    <tr>\n",
              "      <th>196</th>\n",
              "      <td>18.0</td>\n",
              "      <td>7.0</td>\n",
              "      <td>1.7</td>\n",
              "      <td>0.0</td>\n",
              "      <td>4.8</td>\n",
              "      <td>10.3</td>\n",
              "      <td>1.0</td>\n",
              "      <td>0.371359</td>\n",
              "      <td>-0.881403</td>\n",
              "      <td>0.000000</td>\n",
              "      <td>0.000000</td>\n",
              "      <td>0.000000</td>\n",
              "      <td>0.000000</td>\n",
              "      <td>0.000000</td>\n",
              "      <td>0.000000</td>\n",
              "      <td>2.856266</td>\n",
              "      <td>-1.097627</td>\n",
              "      <td>0.056866</td>\n",
              "    </tr>\n",
              "    <tr>\n",
              "      <th>197</th>\n",
              "      <td>0.0</td>\n",
              "      <td>15.9</td>\n",
              "      <td>2.4</td>\n",
              "      <td>1.0</td>\n",
              "      <td>0.0</td>\n",
              "      <td>0.0</td>\n",
              "      <td>0.0</td>\n",
              "      <td>-0.321788</td>\n",
              "      <td>0.000000</td>\n",
              "      <td>0.000000</td>\n",
              "      <td>0.000000</td>\n",
              "      <td>0.000000</td>\n",
              "      <td>0.000000</td>\n",
              "      <td>0.000000</td>\n",
              "      <td>0.000000</td>\n",
              "      <td>2.856266</td>\n",
              "      <td>-1.097627</td>\n",
              "      <td>-0.275268</td>\n",
              "    </tr>\n",
              "    <tr>\n",
              "      <th>198</th>\n",
              "      <td>0.0</td>\n",
              "      <td>12.5</td>\n",
              "      <td>3.7</td>\n",
              "      <td>1.0</td>\n",
              "      <td>0.0</td>\n",
              "      <td>0.0</td>\n",
              "      <td>4.9</td>\n",
              "      <td>0.371359</td>\n",
              "      <td>-0.475938</td>\n",
              "      <td>0.034887</td>\n",
              "      <td>-0.475938</td>\n",
              "      <td>-0.475938</td>\n",
              "      <td>-0.475938</td>\n",
              "      <td>-0.475938</td>\n",
              "      <td>0.990399</td>\n",
              "      <td>2.856266</td>\n",
              "      <td>-1.097627</td>\n",
              "      <td>-0.002154</td>\n",
              "    </tr>\n",
              "    <tr>\n",
              "      <th>199</th>\n",
              "      <td>2.4</td>\n",
              "      <td>10.5</td>\n",
              "      <td>9.0</td>\n",
              "      <td>7.8</td>\n",
              "      <td>0.0</td>\n",
              "      <td>0.0</td>\n",
              "      <td>5.8</td>\n",
              "      <td>0.034887</td>\n",
              "      <td>0.000000</td>\n",
              "      <td>0.000000</td>\n",
              "      <td>0.000000</td>\n",
              "      <td>0.000000</td>\n",
              "      <td>0.000000</td>\n",
              "      <td>0.000000</td>\n",
              "      <td>-0.475938</td>\n",
              "      <td>2.856266</td>\n",
              "      <td>-1.097627</td>\n",
              "      <td>0.009569</td>\n",
              "    </tr>\n",
              "  </tbody>\n",
              "</table>\n",
              "<p>200 rows × 18 columns</p>\n",
              "</div>"
            ],
            "text/plain": [
              "     algae_1  algae_2  algae_3  ...  fluid_elocity  river_size    season\n",
              "0        0.0      0.0      0.0  ...       2.856266    1.994982 -0.002154\n",
              "1        1.4      7.6      4.8  ...       2.856266    1.994982  0.056866\n",
              "2        3.3     53.6      1.9  ...       2.856266    1.994982 -0.275268\n",
              "3        3.1     41.0     18.9  ...       2.856266    1.994982  0.056866\n",
              "4        9.2      2.9      7.5  ...       2.856266    1.994982 -0.275268\n",
              "..       ...      ...      ...  ...            ...         ...       ...\n",
              "195     12.7     21.7      5.6  ...       2.856266   -1.097627 -0.275268\n",
              "196     18.0      7.0      1.7  ...       2.856266   -1.097627  0.056866\n",
              "197      0.0     15.9      2.4  ...       2.856266   -1.097627 -0.275268\n",
              "198      0.0     12.5      3.7  ...       2.856266   -1.097627 -0.002154\n",
              "199      2.4     10.5      9.0  ...       2.856266   -1.097627  0.009569\n",
              "\n",
              "[200 rows x 18 columns]"
            ]
          },
          "metadata": {
            "tags": []
          },
          "execution_count": 8
        }
      ]
    },
    {
      "cell_type": "code",
      "metadata": {
        "colab": {
          "base_uri": "https://localhost:8080/"
        },
        "id": "v4UlmSfnADFD",
        "outputId": "cc30edaa-9fee-4ebb-8897-737193d482dd"
      },
      "source": [
        "data['season'].unique()"
      ],
      "execution_count": 9,
      "outputs": [
        {
          "output_type": "execute_result",
          "data": {
            "text/plain": [
              "array(['winter', 'spring', 'autumn', 'summer'], dtype=object)"
            ]
          },
          "metadata": {
            "tags": []
          },
          "execution_count": 9
        }
      ]
    },
    {
      "cell_type": "code",
      "metadata": {
        "colab": {
          "base_uri": "https://localhost:8080/"
        },
        "id": "vF88ooNzAI1U",
        "outputId": "140058ad-5064-427a-db5b-ff5c4b8d14f6"
      },
      "source": [
        "data_WOE_ENC['season'].unique()"
      ],
      "execution_count": 10,
      "outputs": [
        {
          "output_type": "execute_result",
          "data": {
            "text/plain": [
              "array([-0.00215401,  0.05686617, -0.27526767,  0.00956945])"
            ]
          },
          "metadata": {
            "tags": []
          },
          "execution_count": 10
        }
      ]
    },
    {
      "cell_type": "markdown",
      "metadata": {
        "id": "Ysk0RE4Qv4q7"
      },
      "source": [
        "Задача №23.\n",
        "Для набора данных для одного (произвольного) числового признака проведите обнаружение и удаление выбросов на основе правила трех сигм."
      ]
    },
    {
      "cell_type": "code",
      "metadata": {
        "id": "rPiaaeRQBSCd"
      },
      "source": [
        "def diagnostic_plots(df, variable, title='гистограмма'):\n",
        "    fig, ax = plt.subplots(figsize=(10,7))\n",
        "    # гистограмма\n",
        "    plt.subplot(2, 2, 1)\n",
        "    df[variable].hist(bins=30)\n",
        "    fig.suptitle(title)\n",
        "    plt.show()"
      ],
      "execution_count": 11,
      "outputs": []
    },
    {
      "cell_type": "code",
      "metadata": {
        "id": "wpwJbb8Stmud"
      },
      "source": [
        "#data['chem_concentrations_1']\n",
        "K1 = 3\n",
        "lower_boundary = data['algae_6'].mean() - (K1 * data['algae_6'].std())\n",
        "upper_boundary = data['algae_6'].mean() + (K1 * data['algae_6'].std())"
      ],
      "execution_count": 22,
      "outputs": []
    },
    {
      "cell_type": "code",
      "metadata": {
        "colab": {
          "base_uri": "https://localhost:8080/",
          "height": 274
        },
        "id": "Q4NIHTQ8BmSM",
        "outputId": "f1cfd04c-808c-4c5a-e84b-a0106127034f"
      },
      "source": [
        "# Флаги для удаления выбросов\n",
        "outliers_temp = np.where(data['algae_6'] > upper_boundary, True, \n",
        "                        np.where(data['algae_6'] < lower_boundary, True, False))\n",
        "# Удаление данных на основе флага\n",
        "data_trimmed = data.loc[~(outliers_temp), ]  \n",
        "title = 'Поле-{}, метод-{}, строк-{}'.format('algae_6', '3sigma', data_trimmed.shape[0])\n",
        "diagnostic_plots(data_trimmed, 'algae_6', title)"
      ],
      "execution_count": 23,
      "outputs": [
        {
          "output_type": "display_data",
          "data": {
            "image/png": "[encoded data removed]",
            "text/plain": [
              "<Figure size 720x504 with 1 Axes>"
            ]
          },
          "metadata": {
            "tags": []
          }
        }
      ]
    }
  ]
}