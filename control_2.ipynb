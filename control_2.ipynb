{
  "nbformat": 4,
  "nbformat_minor": 0,
  "metadata": {
    "colab": {
      "name": "control_2.ipynb",
      "provenance": [],
      "collapsed_sections": [],
      "authorship_tag": "ABX9TyOeV530PKuZuJHK/NszsW4a",
      "include_colab_link": true
    },
    "kernelspec": {
      "name": "python3",
      "display_name": "Python 3"
    },
    "language_info": {
      "name": "python"
    }
  },
  "cells": [
    {
      "cell_type": "markdown",
      "metadata": {
        "id": "view-in-github",
        "colab_type": "text"
      },
      "source": [
        "<a href=\"https://colab.research.google.com/github/Anechka2212/Machine_learning_methods/blob/main/control_2.ipynb\" target=\"_parent\"><img src=\"https://colab.research.google.com/assets/colab-badge.svg\" alt=\"Open In Colab\"/></a>"
      ]
    },
    {
      "cell_type": "markdown",
      "metadata": {
        "id": "vDo3tcnc0vP7"
      },
      "source": [
        "Желанкина Анна ИУ5-22М"
      ]
    },
    {
      "cell_type": "code",
      "metadata": {
        "id": "XrpoMDnAf7SB"
      },
      "source": [
        "import numpy as np\n",
        "import pandas as pd\n",
        "from typing import Dict, Tuple\n",
        "from sklearn.feature_extraction.text import CountVectorizer, TfidfVectorizer\n",
        "from sklearn.model_selection import GridSearchCV, RandomizedSearchCV\n",
        "from sklearn.metrics import accuracy_score, balanced_accuracy_score\n",
        "from sklearn.metrics import precision_score, recall_score, f1_score, classification_report\n",
        "from sklearn.metrics import confusion_matrix\n",
        "from sklearn.model_selection import cross_val_score\n",
        "from sklearn.pipeline import Pipeline\n",
        "from sklearn.metrics import mean_absolute_error, mean_squared_error, mean_squared_log_error, median_absolute_error, r2_score \n",
        "from sklearn.metrics import roc_curve, roc_auc_score\n",
        "from sklearn.naive_bayes import ComplementNB\n",
        "from sklearn.ensemble import RandomForestClassifier\n",
        "import seaborn as sns\n",
        "from collections import Counter\n",
        "from sklearn.datasets import fetch_20newsgroups\n",
        "import matplotlib.pyplot as plt\n",
        "\n",
        "%matplotlib inline \n",
        "sns.set(style=\"ticks\")"
      ],
      "execution_count": 44,
      "outputs": []
    },
    {
      "cell_type": "code",
      "metadata": {
        "id": "QFLQbkFBhQhI"
      },
      "source": [
        "categories = [\"talk.politics.guns\", \"alt.atheism\", \"sci.med\", \"rec.autos\"]\n",
        "newsgroups = fetch_20newsgroups(subset='train', categories=categories)\n",
        "data = newsgroups['data']"
      ],
      "execution_count": 35,
      "outputs": []
    },
    {
      "cell_type": "code",
      "metadata": {
        "id": "9Ua57kGKkFhe"
      },
      "source": [
        "def accuracy_score_for_classes(\n",
        "    y_true: np.ndarray, \n",
        "    y_pred: np.ndarray) -> Dict[int, float]:\n",
        "    \"\"\"\n",
        "    Вычисление метрики accuracy для каждого класса\n",
        "    y_true - истинные значения классов\n",
        "    y_pred - предсказанные значения классов\n",
        "    Возвращает словарь: ключ - метка класса, \n",
        "    значение - Accuracy для данного класса\n",
        "    \"\"\"\n",
        "    # Для удобства фильтрации сформируем Pandas DataFrame \n",
        "    d = {'t': y_true, 'p': y_pred}\n",
        "    df = pd.DataFrame(data=d)\n",
        "    # Метки классов\n",
        "    classes = np.unique(y_true)\n",
        "    # Результирующий словарь\n",
        "    res = dict()\n",
        "    # Перебор меток классов\n",
        "    for c in classes:\n",
        "        # отфильтруем данные, которые соответствуют \n",
        "        # текущей метке класса в истинных значениях\n",
        "        temp_data_flt = df[df['t']==c]\n",
        "        # расчет accuracy для заданной метки класса\n",
        "        temp_acc = accuracy_score(\n",
        "            temp_data_flt['t'].values, \n",
        "            temp_data_flt['p'].values)\n",
        "        # сохранение результата в словарь\n",
        "        res[c] = temp_acc\n",
        "    return res\n",
        "\n",
        "def print_accuracy_score_for_classes(\n",
        "    y_true: np.ndarray, \n",
        "    y_pred: np.ndarray):\n",
        "    \"\"\"\n",
        "    Вывод метрики accuracy для каждого класса\n",
        "    \"\"\"\n",
        "    accs = accuracy_score_for_classes(y_true, y_pred)\n",
        "    if len(accs)>0:\n",
        "        print('Метка \\t Accuracy')\n",
        "    for i in accs:\n",
        "        print('{} \\t {}'.format(i, accs[i]))"
      ],
      "execution_count": 36,
      "outputs": []
    },
    {
      "cell_type": "markdown",
      "metadata": {
        "id": "RyIdFrA8lTKs"
      },
      "source": [
        "**CountVectorizer и TfidfVectorizer\n",
        "RandomForestClassifier и Complement Naive Bayes (CNB)** "
      ]
    },
    {
      "cell_type": "code",
      "metadata": {
        "colab": {
          "base_uri": "https://localhost:8080/"
        },
        "id": "QZaH0hYckRBt",
        "outputId": "1f9cf692-227d-4340-b806-1c3914b0fa0a"
      },
      "source": [
        "vocabVect = CountVectorizer()\n",
        "vocabVect.fit(data)\n",
        "corpusVocab = vocabVect.vocabulary_\n",
        "print('Количество сформированных признаков - {}'.format(len(corpusVocab)))"
      ],
      "execution_count": 37,
      "outputs": [
        {
          "output_type": "stream",
          "text": [
            "Количество сформированных признаков - 37176\n"
          ],
          "name": "stdout"
        }
      ]
    },
    {
      "cell_type": "code",
      "metadata": {
        "colab": {
          "base_uri": "https://localhost:8080/"
        },
        "id": "yd3kM0l0k6Oh",
        "outputId": "744c8c40-4d11-461b-f3be-8297ac6ef30b"
      },
      "source": [
        "for i in list(corpusVocab)[1:10]:\n",
        "    print('{}={}'.format(i, corpusVocab[i]))"
      ],
      "execution_count": 38,
      "outputs": [
        {
          "output_type": "stream",
          "text": [
            "thom=33375\n",
            "morgan=23251\n",
            "ucs=34360\n",
            "mun=23527\n",
            "ca=8754\n",
            "thomas=33376\n",
            "clancy=9784\n",
            "subject=32210\n",
            "re=28101\n"
          ],
          "name": "stdout"
        }
      ]
    },
    {
      "cell_type": "code",
      "metadata": {
        "colab": {
          "base_uri": "https://localhost:8080/"
        },
        "id": "xJSLY9hPk-gA",
        "outputId": "8d5ee751-b725-4f91-97df-c34d125ef580"
      },
      "source": [
        "test_features = vocabVect.transform(data)\n",
        "test_features"
      ],
      "execution_count": 39,
      "outputs": [
        {
          "output_type": "execute_result",
          "data": {
            "text/plain": [
              "<2214x37176 sparse matrix of type '<class 'numpy.int64'>'\n",
              "\twith 375168 stored elements in Compressed Sparse Row format>"
            ]
          },
          "metadata": {
            "tags": []
          },
          "execution_count": 39
        }
      ]
    },
    {
      "cell_type": "code",
      "metadata": {
        "colab": {
          "base_uri": "https://localhost:8080/"
        },
        "id": "B9oPpvpalm5i",
        "outputId": "6b6aa526-490d-4d61-8561-fe187b16eede"
      },
      "source": [
        "len(test_features.todense()[0].getA1())"
      ],
      "execution_count": 40,
      "outputs": [
        {
          "output_type": "execute_result",
          "data": {
            "text/plain": [
              "37176"
            ]
          },
          "metadata": {
            "tags": []
          },
          "execution_count": 40
        }
      ]
    },
    {
      "cell_type": "code",
      "metadata": {
        "colab": {
          "base_uri": "https://localhost:8080/"
        },
        "id": "weHqh9hQlucV",
        "outputId": "5260a05c-5e77-4536-c140-8f216e5dfbbc"
      },
      "source": [
        "vocabVect.get_feature_names()[37170:]"
      ],
      "execution_count": 41,
      "outputs": [
        {
          "output_type": "execute_result",
          "data": {
            "text/plain": [
              "['zyg', 'zyklon', 'zz', 'zz_g9q3', 'zzz', 'íålittin']"
            ]
          },
          "metadata": {
            "tags": []
          },
          "execution_count": 41
        }
      ]
    },
    {
      "cell_type": "code",
      "metadata": {
        "id": "ZWZn8Gx9nJq3"
      },
      "source": [
        "def VectorizeAndClassify(vectorizers_list, classifiers_list):\n",
        "    for v in vectorizers_list:\n",
        "        for c in classifiers_list:\n",
        "            pipeline1 = Pipeline([(\"vectorizer\", v), (\"classifier\", c)])\n",
        "            score = cross_val_score(pipeline1, newsgroups['data'], newsgroups['target'], scoring='accuracy', cv=3).mean()\n",
        "            print('Векторизация - {}'.format(v))\n",
        "            print('Модель для классификации - {}'.format(c))\n",
        "            print('Accuracy = {}'.format(score))\n",
        "            print('===========================')"
      ],
      "execution_count": 45,
      "outputs": []
    },
    {
      "cell_type": "code",
      "metadata": {
        "colab": {
          "base_uri": "https://localhost:8080/"
        },
        "id": "SoKnjKohnNiU",
        "outputId": "9067ce51-9be0-4b94-c175-db09937c3bbb"
      },
      "source": [
        "vectorizers_list = [CountVectorizer(vocabulary = corpusVocab), TfidfVectorizer(vocabulary = corpusVocab)]\n",
        "classifiers_list = [RandomForestClassifier(), ComplementNB()]\n",
        "VectorizeAndClassify(vectorizers_list, classifiers_list)"
      ],
      "execution_count": 46,
      "outputs": [
        {
          "output_type": "stream",
          "text": [
            "Векторизация - CountVectorizer(analyzer='word', binary=False, decode_error='strict',\n",
            "                dtype=<class 'numpy.int64'>, encoding='utf-8', input='content',\n",
            "                lowercase=True, max_df=1.0, max_features=None, min_df=1,\n",
            "                ngram_range=(1, 1), preprocessor=None, stop_words=None,\n",
            "                strip_accents=None, token_pattern='(?u)\\\\b\\\\w\\\\w+\\\\b',\n",
            "                tokenizer=None,\n",
            "                vocabulary={'00': 0, '000': 1, '0000': 2, '0000001200': 3,\n",
            "                            '00014': 4, '000152': 5, '000406': 6,\n",
            "                            '0005111312': 7, '0005111312na3em': 8, '000601': 9,\n",
            "                            '000710': 10, '000mi': 11, '000miles': 12,\n",
            "                            '000s': 13, '001': 14, '0010': 15, '001004': 16,\n",
            "                            '001125': 17, '001319': 18, '001642': 19, '002': 20,\n",
            "                            '002142': 21, '002651': 22, '003': 23,\n",
            "                            '003258u19250': 24, '0033': 25, '003522': 26,\n",
            "                            '004': 27, '004021809': 28, '004158': 29, ...})\n",
            "Модель для классификации - RandomForestClassifier(bootstrap=True, ccp_alpha=0.0, class_weight=None,\n",
            "                       criterion='gini', max_depth=None, max_features='auto',\n",
            "                       max_leaf_nodes=None, max_samples=None,\n",
            "                       min_impurity_decrease=0.0, min_impurity_split=None,\n",
            "                       min_samples_leaf=1, min_samples_split=2,\n",
            "                       min_weight_fraction_leaf=0.0, n_estimators=100,\n",
            "                       n_jobs=None, oob_score=False, random_state=None,\n",
            "                       verbose=0, warm_start=False)\n",
            "Accuracy = 0.9372177055103884\n",
            "===========================\n",
            "Векторизация - CountVectorizer(analyzer='word', binary=False, decode_error='strict',\n",
            "                dtype=<class 'numpy.int64'>, encoding='utf-8', input='content',\n",
            "                lowercase=True, max_df=1.0, max_features=None, min_df=1,\n",
            "                ngram_range=(1, 1), preprocessor=None, stop_words=None,\n",
            "                strip_accents=None, token_pattern='(?u)\\\\b\\\\w\\\\w+\\\\b',\n",
            "                tokenizer=None,\n",
            "                vocabulary={'00': 0, '000': 1, '0000': 2, '0000001200': 3,\n",
            "                            '00014': 4, '000152': 5, '000406': 6,\n",
            "                            '0005111312': 7, '0005111312na3em': 8, '000601': 9,\n",
            "                            '000710': 10, '000mi': 11, '000miles': 12,\n",
            "                            '000s': 13, '001': 14, '0010': 15, '001004': 16,\n",
            "                            '001125': 17, '001319': 18, '001642': 19, '002': 20,\n",
            "                            '002142': 21, '002651': 22, '003': 23,\n",
            "                            '003258u19250': 24, '0033': 25, '003522': 26,\n",
            "                            '004': 27, '004021809': 28, '004158': 29, ...})\n",
            "Модель для классификации - ComplementNB(alpha=1.0, class_prior=None, fit_prior=True, norm=False)\n",
            "Accuracy = 0.991869918699187\n",
            "===========================\n",
            "Векторизация - TfidfVectorizer(analyzer='word', binary=False, decode_error='strict',\n",
            "                dtype=<class 'numpy.float64'>, encoding='utf-8',\n",
            "                input='content', lowercase=True, max_df=1.0, max_features=None,\n",
            "                min_df=1, ngram_range=(1, 1), norm='l2', preprocessor=None,\n",
            "                smooth_idf=True, stop_words=None, strip_accents=None,\n",
            "                sublinear_tf=False, token_pattern='(?u)\\\\b\\\\w\\\\w+\\\\b',\n",
            "                tokenizer=None, use...\n",
            "                vocabulary={'00': 0, '000': 1, '0000': 2, '0000001200': 3,\n",
            "                            '00014': 4, '000152': 5, '000406': 6,\n",
            "                            '0005111312': 7, '0005111312na3em': 8, '000601': 9,\n",
            "                            '000710': 10, '000mi': 11, '000miles': 12,\n",
            "                            '000s': 13, '001': 14, '0010': 15, '001004': 16,\n",
            "                            '001125': 17, '001319': 18, '001642': 19, '002': 20,\n",
            "                            '002142': 21, '002651': 22, '003': 23,\n",
            "                            '003258u19250': 24, '0033': 25, '003522': 26,\n",
            "                            '004': 27, '004021809': 28, '004158': 29, ...})\n",
            "Модель для классификации - RandomForestClassifier(bootstrap=True, ccp_alpha=0.0, class_weight=None,\n",
            "                       criterion='gini', max_depth=None, max_features='auto',\n",
            "                       max_leaf_nodes=None, max_samples=None,\n",
            "                       min_impurity_decrease=0.0, min_impurity_split=None,\n",
            "                       min_samples_leaf=1, min_samples_split=2,\n",
            "                       min_weight_fraction_leaf=0.0, n_estimators=100,\n",
            "                       n_jobs=None, oob_score=False, random_state=None,\n",
            "                       verbose=0, warm_start=False)\n",
            "Accuracy = 0.9336043360433605\n",
            "===========================\n",
            "Векторизация - TfidfVectorizer(analyzer='word', binary=False, decode_error='strict',\n",
            "                dtype=<class 'numpy.float64'>, encoding='utf-8',\n",
            "                input='content', lowercase=True, max_df=1.0, max_features=None,\n",
            "                min_df=1, ngram_range=(1, 1), norm='l2', preprocessor=None,\n",
            "                smooth_idf=True, stop_words=None, strip_accents=None,\n",
            "                sublinear_tf=False, token_pattern='(?u)\\\\b\\\\w\\\\w+\\\\b',\n",
            "                tokenizer=None, use...\n",
            "                vocabulary={'00': 0, '000': 1, '0000': 2, '0000001200': 3,\n",
            "                            '00014': 4, '000152': 5, '000406': 6,\n",
            "                            '0005111312': 7, '0005111312na3em': 8, '000601': 9,\n",
            "                            '000710': 10, '000mi': 11, '000miles': 12,\n",
            "                            '000s': 13, '001': 14, '0010': 15, '001004': 16,\n",
            "                            '001125': 17, '001319': 18, '001642': 19, '002': 20,\n",
            "                            '002142': 21, '002651': 22, '003': 23,\n",
            "                            '003258u19250': 24, '0033': 25, '003522': 26,\n",
            "                            '004': 27, '004021809': 28, '004158': 29, ...})\n",
            "Модель для классификации - ComplementNB(alpha=1.0, class_prior=None, fit_prior=True, norm=False)\n",
            "Accuracy = 0.9859981933152664\n",
            "===========================\n"
          ],
          "name": "stdout"
        }
      ]
    },
    {
      "cell_type": "markdown",
      "metadata": {
        "id": "0JqFQfPi2ZVR"
      },
      "source": [
        "Лучшую точность показал CountVectorizer и ComplementNB"
      ]
    }
  ]
}